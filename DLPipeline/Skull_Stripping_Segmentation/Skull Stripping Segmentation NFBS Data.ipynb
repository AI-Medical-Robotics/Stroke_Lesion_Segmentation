{
 "cells": [
  {
   "cell_type": "markdown",
   "id": "5038840f",
   "metadata": {},
   "source": [
    "# Skull Stripping Segmentation NFBS Data\n",
    "\n",
    "My plan is to use the Neurofeedback Skull-stripped (NFBS) dataset to train a 3D UNet model on that. Then use that trained 3D UNet model to do automated skull stripping on the ATLAS 2.0 dataset later in our lesion segmentation notebook and source code. Skull stripping is a preprocessing step before lesion segmentation.\n",
    "\n",
    "Reference: https://www.analyticsvidhya.com/blog/2021/06/introduction-to-skull-stripping-image-segmentation-on-3d-mri-images/\n",
    "\n",
    "MRI Brain Dataset with skull stripped labels: http://preprocessed-connectomes-project.org/NFB_skullstripped/\n",
    "\n",
    "## NFBS Dataset\n",
    "\n",
    "- 125 participants 21 to 45 years old with a variety of clinical and sub-clinical psychiatric symptoms.\n",
    "- Structural T1-weighted anonymized (de-faced) images) with a single channel.\n",
    "- Brain mask is the ground truth obtained using Beast (Brain extraction based on nonlocal segmentation) method and applying manual edits by domain experts to remove non-brain tissue.\n",
    "- Skull-stripped image is part of the brain stripped from T1 weighted image. It is similar to overlaying masks to actual images.\n",
    "- The resolution is 1 mm3 and each file is NiFTI (.nii.gz) format.\n",
    "\n",
    "## Outline\n",
    "\n",
    "- Prepare NFBS Data\n",
    "- Data Generator to Feed Data to Model\n",
    "- 3D UNet Model Architecture\n",
    "- Train 3D UNet Model\n",
    "- Deploy 3D UNet for Skull Stripping"
   ]
  },
  {
   "cell_type": "code",
   "execution_count": null,
   "id": "728355c9",
   "metadata": {},
   "outputs": [],
   "source": []
  }
 ],
 "metadata": {
  "kernelspec": {
   "display_name": "Python 3 (ipykernel)",
   "language": "python",
   "name": "python3"
  },
  "language_info": {
   "codemirror_mode": {
    "name": "ipython",
    "version": 3
   },
   "file_extension": ".py",
   "mimetype": "text/x-python",
   "name": "python",
   "nbconvert_exporter": "python",
   "pygments_lexer": "ipython3",
   "version": "3.8.15"
  }
 },
 "nbformat": 4,
 "nbformat_minor": 5
}
